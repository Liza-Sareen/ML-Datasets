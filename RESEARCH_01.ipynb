{
  "cells": [
    {
      "cell_type": "markdown",
      "metadata": {
        "id": "view-in-github",
        "colab_type": "text"
      },
      "source": [
        "<a href=\"https://colab.research.google.com/github/Liza-Sareen/ML-Datasets/blob/main/RESEARCH_01.ipynb\" target=\"_parent\"><img src=\"https://colab.research.google.com/assets/colab-badge.svg\" alt=\"Open In Colab\"/></a>"
      ]
    },
    {
      "cell_type": "code",
      "execution_count": null,
      "metadata": {
        "id": "5fmPpEy9KvV_"
      },
      "outputs": [],
      "source": [
        "import os\n",
        "import keras\n",
        "import numpy as np\n",
        "from keras.preprocessing import image\n",
        "from keras.applications.vgg16 import preprocess_input\n",
        "from sklearn.model_selection import train_test_split\n",
        "from keras.models import Sequential\n",
        "from keras.layers import Dense, Dropout, Flatten\n",
        "from keras.layers import Conv2D, MaxPooling2D\n",
        "from keras import backend as K\n",
        "import datetime\n",
        "import pandas as pd\n",
        "import matplotlib.pyplot as plt\n",
        "import seaborn as sns\n",
        "from keras.applications import VGG16\n",
        "from sklearn.metrics import confusion_matrix, classification_report\n",
        "import tensorflow as tf\n",
        "from keras.layers import Conv2D, MaxPooling2D\n",
        "from keras.optimizers import Adam\n",
        "from keras.utils import to_categorical\n",
        "import cv2\n",
        "from sklearn.metrics import precision_score, recall_score, f1_score, confusion_matrix\n",
        "from sklearn.metrics import confusion_matrix, ConfusionMatrixDisplay\n",
        "import numpy as np\n",
        "import matplotlib.pyplot as plt\n",
        "from sklearn.metrics import precision_score, f1_score, recall_score, confusion_matrix\n",
        "from tensorflow.keras.models import Sequential\n",
        "from tensorflow.keras.layers import Dense\n",
        "from sklearn.metrics import confusion_matrix, ConfusionMatrixDisplay"
      ]
    },
    {
      "cell_type": "markdown",
      "metadata": {
        "id": "N0E7WuWePYC0"
      },
      "source": [
        "IMPORTING AND MODEL LOADING,DATA PREPROCESING, EDA,FEATURE EXTRACTION,X AND Y EXTRACTION"
      ]
    },
    {
      "cell_type": "code",
      "execution_count": null,
      "metadata": {
        "id": "SZHy8ta4ABuL"
      },
      "outputs": [],
      "source": [
        "img_rows=128\n",
        "img_cols=128\n",
        "batch_size=12#128\n",
        "epochs=5\n",
        "x_data = []\n",
        "y_data = []"
      ]
    },
    {
      "cell_type": "code",
      "execution_count": null,
      "metadata": {
        "colab": {
          "base_uri": "https://localhost:8080/"
        },
        "id": "_VJwh7wSAQc1",
        "outputId": "08f8b204-7bfc-4e26-ee12-25e6b518d53f"
      },
      "outputs": [
        {
          "name": "stdout",
          "output_type": "stream",
          "text": [
            "/content/drive/MyDrive/mera_data/BEH\n",
            "/content/drive/MyDrive/mera_data/DRHAGIS\n",
            "/content/drive/MyDrive/mera_data/LES-AV\n",
            "/content/drive/MyDrive/mera_data/PapilaDB-PAPILA-9c67b80983805f0f886b068af800ef2b507e7dc0\n"
          ]
        }
      ],
      "source": [
        "# Define the root directory\n",
        "data_dir = '/content/drive/MyDrive/mera_data'\n",
        "def list_subdirectories(root_dir):\n",
        "    subdirectories = [os.path.join(root_dir, d) for d in os.listdir(root_dir) if os.path.isdir(os.path.join(root_dir, d))]\n",
        "    return subdirectories\n",
        "\n",
        "# Get a list of all subdirectories\n",
        "all_subfolders = list_subdirectories(data_dir)\n",
        "\n",
        "# Print the list of subfolders\n",
        "for subfolder in all_subfolders:\n",
        "    print(subfolder)\n",
        "list_dir=os.listdir(data_dir)"
      ]
    },
    {
      "cell_type": "code",
      "execution_count": null,
      "metadata": {
        "colab": {
          "base_uri": "https://localhost:8080/",
          "height": 35
        },
        "id": "LNiSgXaCEHIH",
        "outputId": "a3a90396-ca5b-4114-aa0e-0ed1c27bea4c"
      },
      "outputs": [
        {
          "data": {
            "application/vnd.google.colaboratory.intrinsic+json": {
              "type": "string"
            },
            "text/plain": [
              "'BEH'"
            ]
          },
          "execution_count": 81,
          "metadata": {},
          "output_type": "execute_result"
        }
      ],
      "source": [
        "list_dir[0]"
      ]
    },
    {
      "cell_type": "code",
      "execution_count": null,
      "metadata": {
        "id": "sB7456g8AVSw"
      },
      "outputs": [],
      "source": [
        "def list_labels(sub_dir):\n",
        "  label = [os.path.join(sub_dir, d) for d in os.listdir(sub_dir) if os.path.isdir(os.path.join(sub_dir, d))]\n",
        "  print(label)"
      ]
    },
    {
      "cell_type": "code",
      "execution_count": null,
      "metadata": {
        "colab": {
          "base_uri": "https://localhost:8080/"
        },
        "id": "7NjVPdIXQQb6",
        "outputId": "1dbc9247-2ba0-4a2e-8f7c-76a8efafdc1c"
      },
      "outputs": [
        {
          "name": "stdout",
          "output_type": "stream",
          "text": [
            "['/content/drive/MyDrive/mera_data/BEH/BEH_GLUCOMA', '/content/drive/MyDrive/mera_data/BEH/BEH_NORMAL']\n",
            "None\n"
          ]
        }
      ],
      "source": [
        "labels_list = list_labels('/content/drive/MyDrive/mera_data/BEH')\n",
        "print(labels_list)"
      ]
    },
    {
      "cell_type": "code",
      "execution_count": null,
      "metadata": {
        "colab": {
          "base_uri": "https://localhost:8080/"
        },
        "id": "kt7av87uQR_v",
        "outputId": "2096a0c8-7bf3-4dd9-9214-0d35590ca1b6"
      },
      "outputs": [
        {
          "data": {
            "text/plain": [
              "['BEH_GLUCOMA', 'BEH_NORMAL']"
            ]
          },
          "execution_count": 84,
          "metadata": {},
          "output_type": "execute_result"
        }
      ],
      "source": [
        "data_dir = '/content/drive/MyDrive/mera_data/BEH'\n",
        "labels = os.listdir(data_dir)\n",
        "num_classes = len(labels)\n",
        "labels"
      ]
    },
    {
      "cell_type": "code",
      "execution_count": null,
      "metadata": {
        "colab": {
          "base_uri": "https://localhost:8080/"
        },
        "id": "1tni3JZ5QSCN",
        "outputId": "90a6b0ca-4822-4719-e559-cd0cea281918"
      },
      "outputs": [
        {
          "name": "stdout",
          "output_type": "stream",
          "text": [
            "/content/drive/MyDrive/mera_data/BEH\n",
            "[['BEH_GLUCOMA', 'BEH_NORMAL']]\n",
            "/content/drive/MyDrive/mera_data/DRHAGIS\n",
            "[['BEH_GLUCOMA', 'BEH_NORMAL'], ['Manual_Segmentations', 'Mask_images', 'Fundus_Images']]\n",
            "/content/drive/MyDrive/mera_data/LES-AV\n",
            "[['BEH_GLUCOMA', 'BEH_NORMAL'], ['Manual_Segmentations', 'Mask_images', 'Fundus_Images'], ['veins', 'arteries', 'images', 'arteries-and-veins', 'vessel-segmentations']]\n",
            "/content/drive/MyDrive/mera_data/PapilaDB-PAPILA-9c67b80983805f0f886b068af800ef2b507e7dc0\n",
            "[['BEH_GLUCOMA', 'BEH_NORMAL'], ['Manual_Segmentations', 'Mask_images', 'Fundus_Images'], ['veins', 'arteries', 'images', 'arteries-and-veins', 'vessel-segmentations'], ['FundusImages', 'ExpertsSegmentations']]\n",
            "[['BEH_GLUCOMA', 'BEH_NORMAL'], ['Manual_Segmentations', 'Mask_images', 'Fundus_Images'], ['veins', 'arteries', 'images', 'arteries-and-veins', 'vessel-segmentations'], ['FundusImages', 'ExpertsSegmentations']]\n",
            "4\n"
          ]
        }
      ],
      "source": [
        "#MY CODE:\n",
        "labels=[]\n",
        "for subfolder in all_subfolders:\n",
        "  data_dir=subfolder\n",
        "  print(subfolder)\n",
        "  labels.append(os.listdir(data_dir))\n",
        "  print(labels)\n",
        "num_classes=len(labels)\n",
        "print(labels)\n",
        "print(num_classes)"
      ]
    },
    {
      "cell_type": "code",
      "execution_count": null,
      "metadata": {
        "colab": {
          "base_uri": "https://localhost:8080/"
        },
        "id": "3iHzDr-08wiY",
        "outputId": "394f3665-239a-4173-fd57-2267b064526a"
      },
      "outputs": [
        {
          "data": {
            "text/plain": [
              "['BEH_GLUCOMA', 'BEH_NORMAL']"
            ]
          },
          "execution_count": 86,
          "metadata": {},
          "output_type": "execute_result"
        }
      ],
      "source": [
        "data_dir = '/content/drive/MyDrive/mera_data/BEH'\n",
        "labels = os.listdir(data_dir)\n",
        "num_classes = len(labels)\n",
        "labels"
      ]
    },
    {
      "cell_type": "code",
      "execution_count": null,
      "metadata": {
        "id": "wVuAiU4mQeoo"
      },
      "outputs": [],
      "source": [
        "# def flatten_list(nested_list):\n",
        "#     return [item for sublist in nested_list for item in sublist]\n",
        "\n",
        "# # Example nested list\n",
        "# labels=[['BEH_GLUCOMA', 'BEH_NORMAL'], ['Manual_Segmentations', 'Mask_images', 'Fundus_Images'], ['masks', 'veins', 'arteries', 'images', 'arteries-and-veins', 'vessel-segmentations'], ['FundusImages', 'ClinicalData', 'ExpertsSegmentations'], ['Images']]\n",
        "# # Flatten the nested list\n",
        "# labels = flatten_list(labels)\n",
        "# print(labels)\n"
      ]
    },
    {
      "cell_type": "code",
      "execution_count": null,
      "metadata": {
        "colab": {
          "base_uri": "https://localhost:8080/"
        },
        "id": "zptQXX3wRGz5",
        "outputId": "1efb6f2e-6037-4b37-c4a2-6d93319d09fa"
      },
      "outputs": [
        {
          "name": "stdout",
          "output_type": "stream",
          "text": [
            "/content/drive/MyDrive/mera_data/BEH\n",
            "/content/drive/MyDrive/mera_data/DRHAGIS\n",
            "/content/drive/MyDrive/mera_data/LES-AV\n",
            "/content/drive/MyDrive/mera_data/PapilaDB-PAPILA-9c67b80983805f0f886b068af800ef2b507e7dc0\n"
          ]
        }
      ],
      "source": [
        "for subfolder in all_subfolders:\n",
        "  print(subfolder)"
      ]
    },
    {
      "cell_type": "code",
      "execution_count": null,
      "metadata": {
        "id": "7R7cIct6LWcy"
      },
      "outputs": [],
      "source": [
        "dataset_dir='/content/drive/MyDrive/mera_data/BEH'\n",
        "LIFE_LAB=os.listdir(dataset_dir)\n",
        "# print(LIFE_LAB)#['BEH_GLUCOMA', 'BEH_NORMAL']\n",
        "num_classes=len(LIFE_LAB)\n",
        "#print(num_classes)#2\n",
        "img_rows,img_cols=128,128"
      ]
    },
    {
      "cell_type": "code",
      "execution_count": null,
      "metadata": {
        "id": "XzLuXaVQPTzy"
      },
      "outputs": [],
      "source": [
        "#model loading\n",
        "#data preprocessing\n"
      ]
    },
    {
      "cell_type": "markdown",
      "metadata": {
        "id": "XV92pNWSPqYv"
      },
      "source": [
        "SCALING, TRAIN TEST SPLIT, MODEL SELECTION, EVALUATE MODEL"
      ]
    },
    {
      "cell_type": "code",
      "execution_count": null,
      "metadata": {
        "colab": {
          "base_uri": "https://localhost:8080/",
          "height": 211
        },
        "id": "rGvLG0HNL6WO",
        "outputId": "b188af64-4c6e-47e5-af86-b57a3350217f"
      },
      "outputs": [
        {
          "ename": "KeyboardInterrupt",
          "evalue": "",
          "output_type": "error",
          "traceback": [
            "\u001b[0;31m---------------------------------------------------------------------------\u001b[0m",
            "\u001b[0;31mKeyboardInterrupt\u001b[0m                         Traceback (most recent call last)",
            "\u001b[0;32m<ipython-input-92-0cc054d102a5>\u001b[0m in \u001b[0;36m<cell line: 1>\u001b[0;34m()\u001b[0m\n\u001b[1;32m     15\u001b[0m     \u001b[0mimg_path\u001b[0m\u001b[0;34m=\u001b[0m\u001b[0mos\u001b[0m\u001b[0;34m.\u001b[0m\u001b[0mpath\u001b[0m\u001b[0;34m.\u001b[0m\u001b[0mjoin\u001b[0m\u001b[0;34m(\u001b[0m\u001b[0mcategory_dir\u001b[0m\u001b[0;34m,\u001b[0m\u001b[0mimg_file\u001b[0m\u001b[0;34m)\u001b[0m\u001b[0;34m\u001b[0m\u001b[0;34m\u001b[0m\u001b[0m\n\u001b[1;32m     16\u001b[0m     \u001b[0;31m#print(img_path)/content/drive/MyDrive/mera_data/BEH/BEH_GLUCOMA/IM003321.JPG\u001b[0m\u001b[0;34m\u001b[0m\u001b[0;34m\u001b[0m\u001b[0m\n\u001b[0;32m---> 17\u001b[0;31m     \u001b[0mimg\u001b[0m\u001b[0;34m=\u001b[0m\u001b[0mcv2\u001b[0m\u001b[0;34m.\u001b[0m\u001b[0mimread\u001b[0m\u001b[0;34m(\u001b[0m\u001b[0mimg_path\u001b[0m\u001b[0;34m)\u001b[0m\u001b[0;31m#arrays and numbers of imgs\u001b[0m\u001b[0;34m\u001b[0m\u001b[0;34m\u001b[0m\u001b[0m\n\u001b[0m\u001b[1;32m     18\u001b[0m     \u001b[0;32mif\u001b[0m \u001b[0mimg\u001b[0m \u001b[0;32mis\u001b[0m \u001b[0;32mnot\u001b[0m \u001b[0;32mNone\u001b[0m\u001b[0;34m:\u001b[0m\u001b[0;34m\u001b[0m\u001b[0;34m\u001b[0m\u001b[0m\n\u001b[1;32m     19\u001b[0m       \u001b[0mimg\u001b[0m\u001b[0;34m=\u001b[0m\u001b[0mcv2\u001b[0m\u001b[0;34m.\u001b[0m\u001b[0mresize\u001b[0m\u001b[0;34m(\u001b[0m\u001b[0mimg\u001b[0m\u001b[0;34m,\u001b[0m\u001b[0;34m(\u001b[0m\u001b[0mimg_rows\u001b[0m\u001b[0;34m,\u001b[0m\u001b[0mimg_cols\u001b[0m\u001b[0;34m)\u001b[0m\u001b[0;34m)\u001b[0m\u001b[0;34m\u001b[0m\u001b[0;34m\u001b[0m\u001b[0m\n",
            "\u001b[0;31mKeyboardInterrupt\u001b[0m: "
          ]
        }
      ],
      "source": [
        "for label,category in enumerate(LIFE_LAB):\n",
        "  name=list_dir[label]\n",
        "  #print(name)#BEH\n",
        "  #print(list_dir)#['BEH', 'DRHAGIS', 'LES-AV', 'PapilaDB-PAPILA-9c67b80983805f0f886b068af800ef2b507e7dc0']\n",
        "  #print(list_dir[label])#BEH FOR 0, DRHAGIS FOR 1\n",
        "  data=[]\n",
        "  labels=[]\n",
        "  category_dir=os.path.join(dataset_dir,category)\n",
        "  #print(category_dir)#/content/drive/MyDrive/mera_data/BEH/BEH_GLUCOMA for 0 and /content/drive/MyDrive/mera_data/BEH/BEH_GLUCOMA and /content/drive/MyDrive/mera_data/BEH/BEH_NORMAL for 1\n",
        "  ########################################################################\n",
        "  # print(category_dir)/content/drive/MyDrive/mera_data/BEH/BEH_GLUCOMA\n",
        "  #print(os.listdir(category_dir))['IM003321.JPG', 'IM003320.JPG', 'IM003260.JPG'..\n",
        "  for img_file in os.listdir(category_dir):\n",
        "    #print(img_file)IM003321.JPG\n",
        "    img_path=os.path.join(category_dir,img_file)\n",
        "    #print(img_path)/content/drive/MyDrive/mera_data/BEH/BEH_GLUCOMA/IM003321.JPG\n",
        "    img=cv2.imread(img_path)#arrays and numbers of imgs\n",
        "    if img is not None:\n",
        "      img=cv2.resize(img,(img_rows,img_cols))\n",
        "    else:\n",
        "      print(\"Image not loaded or does not exist.\")\n",
        "    img=cv2.cvtColor(img,cv2.COLOR_BGR2GRAY)\n",
        "    data.append(img)#data is array of images ie x\n",
        "    labels.append(label)#type of image ie y\n",
        "  data=np.array(data)#scaling of images\n",
        "  data=data.astype('float32')/255.0#scaling\n",
        "  labels=np.array(labels)#scaling of y\n",
        "  from sklearn.model_selection import train_test_split\n",
        "  x_train,x_test,y_train,y_test=train_test_split(data,labels,test_size=0.2,random_state=42)\n",
        "  y_train = to_categorical(y_train, num_classes)#converting to binary\n",
        "  y_test = to_categorical(y_test, num_classes)\n",
        "  #model building\n",
        "  model_run(1)\n",
        "  epochs_list=[]\n",
        "  start_time_list=[]\n",
        "  stop_time_list=[]\n",
        "  loss_list=[]\n",
        "  accuracy_list=[]\n",
        "  start_time_total=datetime.datetime.now()\n",
        "  for epoch in range(epochs):\n",
        "    dataframe(1)\n",
        "  stop_time_total = datetime.datetime.now()\n",
        "  history_df = pd.DataFrame({\n",
        "      'epoch': epochs_list,\n",
        "      'start_time': start_time_list,\n",
        "      'stop_time': stop_time_list,\n",
        "      'loss': loss_list,\n",
        "      'accuracy': accuracy_list,\n",
        "      'execution_time':stop_time_total\n",
        "      })\n",
        "  print(type(epochs))\n",
        "  print(history_df.head())\n",
        "  print(history_df.dtypes)\n",
        "  history_df['Experiment']=1\n",
        "  history_df['Optimizer']=\"PSO\"\n",
        "  history_df['Dataset']=name\n",
        "  history_df['Objfname']=\"CNN\"\n",
        "  history_df['Iteration accuracy']=accuracy\n",
        "  history_df=history_df[['epoch','Optimizer','Dataset','Objfname','Experiment','start_time','stop_time','execution_time','accuracy','loss','Iteration accuracy']]\n",
        "  print(type(epochs))\n",
        "  existing_data = pd.read_excel(\"/content/file.xlsx\")\n",
        "  two(1)\n",
        "  curve_draw_convergance(1)\n",
        "  class Metric:\n",
        "    def __init__(self, train_X, test_X, train_Y, test_Y):\n",
        "      self.train_X = train_X\n",
        "      self.test_X = test_X\n",
        "      self.train_Y = train_Y\n",
        "      self.test_Y = test_Y\n",
        "      self.model = self.create_model()\n",
        "\n",
        "      self.predictions = self.classify()\n",
        "      self.accuracy = self.compute_accuracy()\n",
        "      self.precision = self.compute_precision()\n",
        "      self.recall = self.compute_recall()\n",
        "      self.f1_score = self.compute_f1()\n",
        "      self.confusion_matrix = self.compute_confusion_matrix()\n",
        "\n",
        "      self.plot_confusion_matrix()\n",
        "    def create_model(self):\n",
        "      model = Sequential()\n",
        "      model.add(Conv2D(32, kernel_size=(3, 3), activation='relu', input_shape=(img_rows, img_cols, 1)))\n",
        "      model.add(Conv2D(64, (3, 3), activation='relu'))\n",
        "      model.add(MaxPooling2D(pool_size=(2, 2)))\n",
        "      model.add(Dropout(0.25))\n",
        "      model.add(Flatten())\n",
        "      model.add(Dense(128, activation='relu'))\n",
        "      model.add(Dropout(0.5))\n",
        "      model.add(Dense(num_classes, activation='softmax'))\n",
        "      model.compile(loss=keras.losses.categorical_crossentropy,\n",
        "                    optimizer=Adam(),\n",
        "                    metrics=['accuracy'])\n",
        "      return model\n",
        "    def classify(self):\n",
        "      self.model.fit(self.train_X, self.train_Y, epochs=1, batch_size=32, verbose=0)\n",
        "      predictions = self.model.predict(self.test_X)\n",
        "      return np.argmax(predictions, axis=1)\n",
        "      return predictions.flatten()\n",
        "\n",
        "    def compute_accuracy(self):\n",
        "      _, accuracy = self.model.evaluate(self.test_X, self.test_Y, verbose=0)\n",
        "      return accuracy\n",
        "\n",
        "    def compute_precision(self):\n",
        "      return precision_score(np.argmax(self.test_Y, axis=1), self.predictions, average='weighted')\n",
        "    def compute_recall(self):\n",
        "      return recall_score(np.argmax(self.test_Y, axis=1), self.predictions, average='weighted')\n",
        "\n",
        "    def compute_f1(self):\n",
        "      return f1_score(np.argmax(self.test_Y, axis=1), self.predictions, average='weighted')\n",
        "\n",
        "    def compute_confusion_matrix(self):\n",
        "      return confusion_matrix(np.argmax(self.test_Y, axis=1), self.predictions)\n",
        "\n",
        "    def plot_confusion_matrix(self):\n",
        "      cm = self.compute_confusion_matrix()\n",
        "      disp = ConfusionMatrixDisplay(confusion_matrix=cm)\n",
        "      disp.plot(cmap=plt.cm.Blues, values_format='d')\n",
        "      plt.title('Confusion Matrix-CNN')\n",
        "      plt.show()\n",
        "  metric_cnn = Metric(x_train, x_test, y_train, y_test)\n",
        "  precision_cnn = metric_cnn.precision\n",
        "  recall_cnn = metric_cnn.recall\n",
        "  f1_score_cnn = metric_cnn.f1_score\n",
        "  print(f\"K-Nearest Neighbors Precision: {precision_cnn}\")\n",
        "  print(f\"K-Nearest Neighbors Recall: {recall_cnn}\")\n",
        "  print(f\"K-Nearest Neighbors F1-Score: {f1_score_cnn}\")"
      ]
    },
    {
      "cell_type": "code",
      "execution_count": null,
      "metadata": {
        "id": "5ifE3HfeS868"
      },
      "outputs": [],
      "source": [
        "def model_run(number):\n",
        "  model=Sequential()\n",
        "  model.add(Conv2D(32, kernel_size=(3, 3),\n",
        "                   activation='relu',\n",
        "                   input_shape=(img_rows, img_cols, 1)))\n",
        "  model.add(Conv2D(64, (3, 3), activation='relu'))\n",
        "  model.add(MaxPooling2D(pool_size=(2, 2)))\n",
        "  model.add(Dropout(0.25))\n",
        "  model.add(Flatten())\n",
        "  model.add(Dense(128, activation='relu'))\n",
        "  model.add(Dropout(0.5))\n",
        "  model.add(Dense(num_classes, activation='softmax'))\n",
        "  model.compile(loss=keras.losses.categorical_crossentropy,\n",
        "                optimizer=Adam(),\n",
        "                metrics=['accuracy'])\n",
        "  print('done')"
      ]
    },
    {
      "cell_type": "code",
      "execution_count": null,
      "metadata": {
        "id": "-eQ-b3d5TxuG"
      },
      "outputs": [],
      "source": [
        "def dataframe(number):\n",
        "  start_time=datetime.datetime.now()\n",
        "  history=model.fit(x_train,y_train,\n",
        "                    batch_size=batch_size,\n",
        "                    epochs=1,\n",
        "                    verbose=1,\n",
        "                    validation_data=(x_test,y_test))\n",
        "  stop_time=datetime.datetime.now()\n",
        "  loss=history.history['loss'][0]\n",
        "  print(loss)\n",
        "  accuracy=history.history['accuracy'][0]\n",
        "  epochs_list.append(epoch + 1)\n",
        "  start_time_list.append(start_time)\n",
        "  stop_time_list.append(stop_time)\n",
        "  loss_list.append(loss)\n",
        "  accuracy_list.append(accuracy)\n",
        "  print(f\"Epoch {epoch + 1}: Start Time - {start_time}, Stop Time - {stop_time}\")\n",
        "  print(f'Test loss for Epoch {epoch + 1}: {loss}')\n",
        "  print(f'Test accuracy for Epoch {epoch + 1}: {accuracy}')"
      ]
    },
    {
      "cell_type": "code",
      "execution_count": null,
      "metadata": {
        "id": "HzL66f1OU1dj"
      },
      "outputs": [],
      "source": [
        "def format_date(date):\n",
        "  return pd.to_datetime(date).strftime('%Y-%m-%d %H:%M:%S')"
      ]
    },
    {
      "cell_type": "code",
      "execution_count": null,
      "metadata": {
        "id": "UDXXcEWzV6fA"
      },
      "outputs": [],
      "source": [
        "def two(number):\n",
        "  combined_data = pd.concat([existing_data, history_df], ignore_index=True)\n",
        "  combined_data['start_time']=combined_data['start_time'].apply(format_date)\n",
        "  combined_data['stop_time']=combined_data['stop_time'].apply(format_date)\n",
        "  combined_data.to_excel('file.xlsx', index=False)\n",
        "  import matplotlib.pyplot as plt\n",
        "  print(type(epochs))\n",
        "  epoch_values = [1,2,3,4,5]  # X-axis values (e.g., epochs or iterations)\n",
        "  loss_values = loss_list  # Y-axis values (e.g., loss)\n",
        "  print(loss_values)"
      ]
    },
    {
      "cell_type": "code",
      "execution_count": null,
      "metadata": {
        "id": "CO5FFKN3WVJm"
      },
      "outputs": [],
      "source": [
        "def curve_draw_convergance(number):\n",
        "  plt.figure(figsize=(8, 6))\n",
        "  plt.plot(epoch_values, loss_values, marker='o', linestyle='-')\n",
        "  plt.title('Convergence Curve')\n",
        "  plt.xlabel('Epochs')\n",
        "  print(type(epochs))\n",
        "  plt.ylabel('Loss')\n",
        "  plt.grid(True)\n",
        "  plt.show()\n",
        "  i=1\n",
        "  plt.savefig(f\"Conv_curve{i}.png\",format=\"png\")\n",
        "  data1=pd.read_excel('/content/file.xlsx')\n",
        "  plot=sns.boxplot(data=data1,x=data1['accuracy'],color='yellow')\n",
        "  plt.xlabel('Accuracy')\n",
        "  sns.displot(data1['accuracy'],kde=True)\n",
        "  plt.savefig(\"box.png\", format=\"png\")\n",
        "  plt.show()\n",
        "  i=i+1"
      ]
    },
    {
      "cell_type": "code",
      "execution_count": null,
      "metadata": {
        "colab": {
          "base_uri": "https://localhost:8080/",
          "height": 1000
        },
        "id": "bLtocrQUXneN",
        "outputId": "b1577251-f44d-419f-a1e7-180b39046b98"
      },
      "outputs": [
        {
          "name": "stdout",
          "output_type": "stream",
          "text": [
            "done\n",
            "12/12 [==============================] - 17s 1s/step - loss: 0.0616 - accuracy: 0.9559 - val_loss: 0.0000e+00 - val_accuracy: 1.0000\n",
            "0.06164925917983055\n",
            "Epoch 1: Start Time - 2024-06-07 16:04:02.416613, Stop Time - 2024-06-07 16:04:19.088924\n",
            "Test loss for Epoch 1: 0.06164925917983055\n",
            "Test accuracy for Epoch 1: 0.9558823704719543\n",
            "12/12 [==============================] - 18s 2s/step - loss: 0.0000e+00 - accuracy: 1.0000 - val_loss: 0.0000e+00 - val_accuracy: 1.0000\n",
            "0.0\n",
            "Epoch 2: Start Time - 2024-06-07 16:04:19.089205, Stop Time - 2024-06-07 16:04:39.639816\n",
            "Test loss for Epoch 2: 0.0\n",
            "Test accuracy for Epoch 2: 1.0\n",
            "12/12 [==============================] - 15s 1s/step - loss: 0.0000e+00 - accuracy: 1.0000 - val_loss: 0.0000e+00 - val_accuracy: 1.0000\n",
            "0.0\n",
            "Epoch 3: Start Time - 2024-06-07 16:04:39.640090, Stop Time - 2024-06-07 16:05:00.180362\n",
            "Test loss for Epoch 3: 0.0\n",
            "Test accuracy for Epoch 3: 1.0\n",
            "12/12 [==============================] - 15s 1s/step - loss: 0.0000e+00 - accuracy: 1.0000 - val_loss: 0.0000e+00 - val_accuracy: 1.0000\n",
            "0.0\n",
            "Epoch 4: Start Time - 2024-06-07 16:05:00.182389, Stop Time - 2024-06-07 16:05:20.725430\n",
            "Test loss for Epoch 4: 0.0\n",
            "Test accuracy for Epoch 4: 1.0\n",
            "12/12 [==============================] - 15s 1s/step - loss: 0.0000e+00 - accuracy: 1.0000 - val_loss: 0.0000e+00 - val_accuracy: 1.0000\n",
            "0.0\n",
            "Epoch 5: Start Time - 2024-06-07 16:05:20.725673, Stop Time - 2024-06-07 16:05:36.063754\n",
            "Test loss for Epoch 5: 0.0\n",
            "Test accuracy for Epoch 5: 1.0\n",
            "<class 'int'>\n",
            "   epoch                 start_time                  stop_time      loss  \\\n",
            "0      1 2024-06-07 16:04:02.416613 2024-06-07 16:04:19.088924  0.061649   \n",
            "1      2 2024-06-07 16:04:19.089205 2024-06-07 16:04:39.639816  0.000000   \n",
            "2      3 2024-06-07 16:04:39.640090 2024-06-07 16:05:00.180362  0.000000   \n",
            "3      4 2024-06-07 16:05:00.182389 2024-06-07 16:05:20.725430  0.000000   \n",
            "4      5 2024-06-07 16:05:20.725673 2024-06-07 16:05:36.063754  0.000000   \n",
            "\n",
            "   accuracy             execution_time  \n",
            "0  0.955882 2024-06-07 16:05:36.063967  \n",
            "1  1.000000 2024-06-07 16:05:36.063967  \n",
            "2  1.000000 2024-06-07 16:05:36.063967  \n",
            "3  1.000000 2024-06-07 16:05:36.063967  \n",
            "4  1.000000 2024-06-07 16:05:36.063967  \n",
            "epoch                      int64\n",
            "start_time        datetime64[ns]\n",
            "stop_time         datetime64[ns]\n",
            "loss                     float64\n",
            "accuracy                 float64\n",
            "execution_time    datetime64[ns]\n",
            "dtype: object\n",
            "<class 'int'>\n",
            "<class 'int'>\n",
            "[0.06164925917983055, 0.0, 0.0, 0.0, 0.0]\n",
            "<class 'int'>\n"
          ]
        },
        {
          "data": {
            "image/png": "[encoded data removed]",
            "text/plain": [
              "<Figure size 800x600 with 1 Axes>"
            ]
          },
          "metadata": {},
          "output_type": "display_data"
        },
        {
          "data": {
            "image/png": "[encoded data removed]",
            "text/plain": [
              "<Figure size 640x480 with 1 Axes>"
            ]
          },
          "metadata": {},
          "output_type": "display_data"
        },
        {
          "data": {
            "image/png": "[encoded data removed]",
            "text/plain": [
              "<Figure size 500x500 with 1 Axes>"
            ]
          },
          "metadata": {},
          "output_type": "display_data"
        },
        {
          "name": "stdout",
          "output_type": "stream",
          "text": [
            "2/2 [==============================] - 1s 70ms/step\n"
          ]
        },
        {
          "data": {
            "image/png": "[encoded data removed]",
            "text/plain": [
              "<Figure size 640x480 with 2 Axes>"
            ]
          },
          "metadata": {},
          "output_type": "display_data"
        },
        {
          "name": "stdout",
          "output_type": "stream",
          "text": [
            "K-Nearest Neighbors Precision: 1.0\n",
            "K-Nearest Neighbors Recall: 1.0\n",
            "K-Nearest Neighbors F1-Score: 1.0\n",
            "done\n",
            "31/31 [==============================] - 43s 1s/step - loss: 0.0221 - accuracy: 0.9865 - val_loss: 0.0000e+00 - val_accuracy: 1.0000\n",
            "0.022083429619669914\n",
            "Epoch 1: Start Time - 2024-06-07 16:06:42.242879, Stop Time - 2024-06-07 16:08:05.725135\n",
            "Test loss for Epoch 1: 0.022083429619669914\n",
            "Test accuracy for Epoch 1: 0.9864864945411682\n",
            "31/31 [==============================] - 40s 1s/step - loss: 0.0000e+00 - accuracy: 1.0000 - val_loss: 0.0000e+00 - val_accuracy: 1.0000\n",
            "0.0\n",
            "Epoch 2: Start Time - 2024-06-07 16:08:05.725399, Stop Time - 2024-06-07 16:08:46.272717\n",
            "Test loss for Epoch 2: 0.0\n",
            "Test accuracy for Epoch 2: 1.0\n",
            "31/31 [==============================] - 42s 1s/step - loss: 0.0000e+00 - accuracy: 1.0000 - val_loss: 0.0000e+00 - val_accuracy: 1.0000\n",
            "0.0\n",
            "Epoch 3: Start Time - 2024-06-07 16:08:46.273819, Stop Time - 2024-06-07 16:10:08.264572\n",
            "Test loss for Epoch 3: 0.0\n",
            "Test accuracy for Epoch 3: 1.0\n",
            "31/31 [==============================] - 40s 1s/step - loss: 0.0000e+00 - accuracy: 1.0000 - val_loss: 0.0000e+00 - val_accuracy: 1.0000\n",
            "0.0\n",
            "Epoch 4: Start Time - 2024-06-07 16:10:08.264875, Stop Time - 2024-06-07 16:10:49.311083\n",
            "Test loss for Epoch 4: 0.0\n",
            "Test accuracy for Epoch 4: 1.0\n",
            "31/31 [==============================] - 40s 1s/step - loss: 0.0000e+00 - accuracy: 1.0000 - val_loss: 0.0000e+00 - val_accuracy: 1.0000\n",
            "0.0\n",
            "Epoch 5: Start Time - 2024-06-07 16:10:49.311335, Stop Time - 2024-06-07 16:11:30.342486\n",
            "Test loss for Epoch 5: 0.0\n",
            "Test accuracy for Epoch 5: 1.0\n",
            "<class 'int'>\n",
            "   epoch                 start_time                  stop_time      loss  \\\n",
            "0      1 2024-06-07 16:06:42.242879 2024-06-07 16:08:05.725135  0.022083   \n",
            "1      2 2024-06-07 16:08:05.725399 2024-06-07 16:08:46.272717  0.000000   \n",
            "2      3 2024-06-07 16:08:46.273819 2024-06-07 16:10:08.264572  0.000000   \n",
            "3      4 2024-06-07 16:10:08.264875 2024-06-07 16:10:49.311083  0.000000   \n",
            "4      5 2024-06-07 16:10:49.311335 2024-06-07 16:11:30.342486  0.000000   \n",
            "\n",
            "   accuracy             execution_time  \n",
            "0  0.986486 2024-06-07 16:11:30.345315  \n",
            "1  1.000000 2024-06-07 16:11:30.345315  \n",
            "2  1.000000 2024-06-07 16:11:30.345315  \n",
            "3  1.000000 2024-06-07 16:11:30.345315  \n",
            "4  1.000000 2024-06-07 16:11:30.345315  \n",
            "epoch                      int64\n",
            "start_time        datetime64[ns]\n",
            "stop_time         datetime64[ns]\n",
            "loss                     float64\n",
            "accuracy                 float64\n",
            "execution_time    datetime64[ns]\n",
            "dtype: object\n",
            "<class 'int'>\n",
            "<class 'int'>\n",
            "[0.022083429619669914, 0.0, 0.0, 0.0, 0.0]\n",
            "<class 'int'>\n"
          ]
        },
        {
          "data": {
            "image/png": "[encoded data removed]",
            "text/plain": [
              "<Figure size 800x600 with 1 Axes>"
            ]
          },
          "metadata": {},
          "output_type": "display_data"
        },
        {
          "data": {
            "image/png": "[encoded data removed]",
            "text/plain": [
              "<Figure size 640x480 with 1 Axes>"
            ]
          },
          "metadata": {},
          "output_type": "display_data"
        },
        {
          "data": {
            "image/png": "[encoded data removed]",
            "text/plain": [
              "<Figure size 500x500 with 1 Axes>"
            ]
          },
          "metadata": {},
          "output_type": "display_data"
        },
        {
          "name": "stdout",
          "output_type": "stream",
          "text": [
            "3/3 [==============================] - 3s 610ms/step\n"
          ]
        },
        {
          "data": {
            "image/png": "[encoded data removed]",
            "text/plain": [
              "<Figure size 640x480 with 2 Axes>"
            ]
          },
          "metadata": {},
          "output_type": "display_data"
        },
        {
          "name": "stdout",
          "output_type": "stream",
          "text": [
            "K-Nearest Neighbors Precision: 1.0\n",
            "K-Nearest Neighbors Recall: 1.0\n",
            "K-Nearest Neighbors F1-Score: 1.0\n"
          ]
        }
      ],
      "source": [
        "for label,category in enumerate(LIFE_LAB):\n",
        "  name=list_dir[label]\n",
        "  #print(name)#BEH\n",
        "  #print(list_dir)#['BEH', 'DRHAGIS', 'LES-AV', 'PapilaDB-PAPILA-9c67b80983805f0f886b068af800ef2b507e7dc0']\n",
        "  #print(list_dir[label])#BEH FOR 0, DRHAGIS FOR 1\n",
        "  data=[]\n",
        "  labels=[]\n",
        "  category_dir=os.path.join(dataset_dir,category)\n",
        "  #print(category_dir)#/content/drive/MyDrive/mera_data/BEH/BEH_GLUCOMA for 0 and /content/drive/MyDrive/mera_data/BEH/BEH_GLUCOMA and /content/drive/MyDrive/mera_data/BEH/BEH_NORMAL for 1\n",
        "  ########################################################################\n",
        "  # print(category_dir)/content/drive/MyDrive/mera_data/BEH/BEH_GLUCOMA\n",
        "  #print(os.listdir(category_dir))['IM003321.JPG', 'IM003320.JPG', 'IM003260.JPG'..\n",
        "  for img_file in os.listdir(category_dir):\n",
        "    #print(img_file)IM003321.JPG\n",
        "    img_path=os.path.join(category_dir,img_file)\n",
        "    #print(img_path)/content/drive/MyDrive/mera_data/BEH/BEH_GLUCOMA/IM003321.JPG\n",
        "    img=cv2.imread(img_path)#arrays and numbers of imgs\n",
        "    if img is not None:\n",
        "      img=cv2.resize(img,(img_rows,img_cols))\n",
        "    else:\n",
        "      print(\"Image not loaded or does not exist.\")\n",
        "    img=cv2.cvtColor(img,cv2.COLOR_BGR2GRAY)\n",
        "    data.append(img)#data is array of images ie x\n",
        "    labels.append(label)#type of image ie y\n",
        "  data=np.array(data)#scaling of images\n",
        "  data=data.astype('float32')/255.0#scaling\n",
        "  labels=np.array(labels)#scaling of y\n",
        "  from sklearn.model_selection import train_test_split\n",
        "  x_train,x_test,y_train,y_test=train_test_split(data,labels,test_size=0.2,random_state=42)\n",
        "  y_train = to_categorical(y_train, num_classes)#converting to binary\n",
        "  y_test = to_categorical(y_test, num_classes)\n",
        "  #model building\n",
        "  model=Sequential()\n",
        "  model.add(Conv2D(32, kernel_size=(3, 3),\n",
        "                   activation='relu',\n",
        "                   input_shape=(img_rows, img_cols, 1)))\n",
        "  model.add(Conv2D(64, (3, 3), activation='relu'))\n",
        "  model.add(MaxPooling2D(pool_size=(2, 2)))\n",
        "  model.add(Dropout(0.25))\n",
        "  model.add(Flatten())\n",
        "  model.add(Dense(128, activation='relu'))\n",
        "  model.add(Dropout(0.5))\n",
        "  model.add(Dense(num_classes, activation='softmax'))\n",
        "  model.compile(loss=keras.losses.categorical_crossentropy,\n",
        "                optimizer=Adam(),\n",
        "                metrics=['accuracy'])\n",
        "  print('done')\n",
        "  epochs_list=[]\n",
        "  start_time_list=[]\n",
        "  stop_time_list=[]\n",
        "  loss_list=[]\n",
        "  accuracy_list=[]\n",
        "  start_time_total=datetime.datetime.now()\n",
        "  for epoch in range(epochs):\n",
        "    start_time=datetime.datetime.now()\n",
        "    history=model.fit(x_train,y_train,\n",
        "                      batch_size=batch_size,\n",
        "                      epochs=1,\n",
        "                      verbose=1,\n",
        "                      validation_data=(x_test,y_test))\n",
        "    stop_time=datetime.datetime.now()\n",
        "    loss=history.history['loss'][0]\n",
        "    print(loss)\n",
        "    accuracy=history.history['accuracy'][0]\n",
        "    epochs_list.append(epoch + 1)\n",
        "    start_time_list.append(start_time)\n",
        "    stop_time_list.append(stop_time)\n",
        "    loss_list.append(loss)\n",
        "    accuracy_list.append(accuracy)\n",
        "    print(f\"Epoch {epoch + 1}: Start Time - {start_time}, Stop Time - {stop_time}\")\n",
        "    print(f'Test loss for Epoch {epoch + 1}: {loss}')\n",
        "    print(f'Test accuracy for Epoch {epoch + 1}: {accuracy}')\n",
        "  stop_time_total = datetime.datetime.now()\n",
        "  history_df = pd.DataFrame({\n",
        "      'epoch': epochs_list,\n",
        "      'start_time': start_time_list,\n",
        "      'stop_time': stop_time_list,\n",
        "      'loss': loss_list,\n",
        "      'accuracy': accuracy_list,\n",
        "      'execution_time':stop_time_total\n",
        "      })\n",
        "  print(type(epochs))\n",
        "  print(history_df.head())\n",
        "  print(history_df.dtypes)\n",
        "  history_df['Experiment']=1\n",
        "  history_df['Optimizer']=\"PSO\"\n",
        "  history_df['Dataset']=name\n",
        "  history_df['Objfname']=\"CNN\"\n",
        "  history_df['Iteration accuracy']=accuracy\n",
        "  history_df=history_df[['epoch','Optimizer','Dataset','Objfname','Experiment','start_time','stop_time','execution_time','accuracy','loss','Iteration accuracy']]\n",
        "  print(type(epochs))\n",
        "  existing_data = pd.read_excel(\"/content/file.xlsx\")\n",
        "  combined_data = pd.concat([existing_data, history_df], ignore_index=True)\n",
        "  combined_data['start_time']=combined_data['start_time'].apply(format_date)\n",
        "  combined_data['stop_time']=combined_data['stop_time'].apply(format_date)\n",
        "  combined_data.to_excel('file.xlsx', index=False)\n",
        "  import matplotlib.pyplot as plt\n",
        "  print(type(epochs))\n",
        "  epoch_values = [1,2,3,4,5]  # X-axis values (e.g., epochs or iterations)\n",
        "  loss_values = loss_list  # Y-axis values (e.g., loss)\n",
        "  print(loss_values)\n",
        "  curve_draw_convergance(1)\n",
        "  class Metric:\n",
        "    def __init__(self, train_X, test_X, train_Y, test_Y):\n",
        "      self.train_X = train_X\n",
        "      self.test_X = test_X\n",
        "      self.train_Y = train_Y\n",
        "      self.test_Y = test_Y\n",
        "      self.model = self.create_model()\n",
        "\n",
        "      self.predictions = self.classify()\n",
        "      self.accuracy = self.compute_accuracy()\n",
        "      self.precision = self.compute_precision()\n",
        "      self.recall = self.compute_recall()\n",
        "      self.f1_score = self.compute_f1()\n",
        "      self.confusion_matrix = self.compute_confusion_matrix()\n",
        "\n",
        "      self.plot_confusion_matrix()\n",
        "    def create_model(self):\n",
        "      model = Sequential()\n",
        "      model.add(Conv2D(32, kernel_size=(3, 3), activation='relu', input_shape=(img_rows, img_cols, 1)))\n",
        "      model.add(Conv2D(64, (3, 3), activation='relu'))\n",
        "      model.add(MaxPooling2D(pool_size=(2, 2)))\n",
        "      model.add(Dropout(0.25))\n",
        "      model.add(Flatten())\n",
        "      model.add(Dense(128, activation='relu'))\n",
        "      model.add(Dropout(0.5))\n",
        "      model.add(Dense(num_classes, activation='softmax'))\n",
        "      model.compile(loss=keras.losses.categorical_crossentropy,\n",
        "                    optimizer=Adam(),\n",
        "                    metrics=['accuracy'])\n",
        "      return model\n",
        "    def classify(self):\n",
        "      self.model.fit(self.train_X, self.train_Y, epochs=1, batch_size=32, verbose=0)\n",
        "      predictions = self.model.predict(self.test_X)\n",
        "      return np.argmax(predictions, axis=1)\n",
        "      return predictions.flatten()\n",
        "\n",
        "    def compute_accuracy(self):\n",
        "      _, accuracy = self.model.evaluate(self.test_X, self.test_Y, verbose=0)\n",
        "      return accuracy\n",
        "\n",
        "    def compute_precision(self):\n",
        "      return precision_score(np.argmax(self.test_Y, axis=1), self.predictions, average='weighted')\n",
        "    def compute_recall(self):\n",
        "      return recall_score(np.argmax(self.test_Y, axis=1), self.predictions, average='weighted')\n",
        "\n",
        "    def compute_f1(self):\n",
        "      return f1_score(np.argmax(self.test_Y, axis=1), self.predictions, average='weighted')\n",
        "\n",
        "    def compute_confusion_matrix(self):\n",
        "      return confusion_matrix(np.argmax(self.test_Y, axis=1), self.predictions)\n",
        "\n",
        "    def plot_confusion_matrix(self):\n",
        "      cm = self.compute_confusion_matrix()\n",
        "      disp = ConfusionMatrixDisplay(confusion_matrix=cm)\n",
        "      disp.plot(cmap=plt.cm.Blues, values_format='d')\n",
        "      plt.title('Confusion Matrix-CNN')\n",
        "      plt.show()\n",
        "  metric_cnn = Metric(x_train, x_test, y_train, y_test)\n",
        "  precision_cnn = metric_cnn.precision\n",
        "  recall_cnn = metric_cnn.recall\n",
        "  f1_score_cnn = metric_cnn.f1_score\n",
        "  print(f\"K-Nearest Neighbors Precision: {precision_cnn}\")\n",
        "  print(f\"K-Nearest Neighbors Recall: {recall_cnn}\")\n",
        "  print(f\"K-Nearest Neighbors F1-Score: {f1_score_cnn}\")"
      ]
    },
    {
      "cell_type": "code",
      "execution_count": null,
      "metadata": {
        "id": "freJXHmQ62RF"
      },
      "outputs": [],
      "source": [
        "for subfolder in all_subfolders:\n",
        "  dataset_dir = subfolder\n",
        "  LIFE_LAB = os.listdir(dataset_dir)\n",
        "  num_classes=len(LIFE_LAB)\n",
        "  # Define your image dimensions\n",
        "  img_rows, img_cols = 128, 128  # Adjust this as needed\n",
        "  # Load and preprocess your dataset\n",
        "  for label, category in enumerate(LIFE_LAB):\n",
        "    name=list_dir[label]\n",
        "    data = []\n",
        "    labels = []\n",
        "    category_dir = os.path.join(dataset_dir, category)\n",
        "    for img_file in os.listdir(category_dir):\n",
        "      img_path = os.path.join(category_dir, img_file)\n",
        "      img = cv2.imread(img_path)\n",
        "      # Check if the image loaded successfully\n",
        "      if image is not None:\n",
        "        # Resize the image to a new size\n",
        "        # print(img_path)\n",
        "        img = cv2.resize(img, (img_rows, img_cols))\n",
        "      else:\n",
        "        print(\"Image not loaded or does not exist.\")\n",
        "      img = cv2.cvtColor(img, cv2.COLOR_BGR2GRAY)\n",
        "      data.append(img)\n",
        "      labels.append(label)\n",
        "    data = np.array(data)\n",
        "    data = data.astype('float32') / 255.0\n",
        "    labels = np.array(labels)\n",
        "    from sklearn.model_selection import train_test_split\n",
        "    x_train, x_test, y_train, y_test = train_test_split(data, labels, test_size=0.2, random_state=42)\n",
        "    # Convert class vectors to binary class matrices\n",
        "    num_classes = num_classes  # Glaucoma and Normal\n",
        "    y_train = to_categorical(y_train, num_classes)\n",
        "    y_test = to_categorical(y_test, num_classes)\n",
        "    # Build your model\n",
        "    model = Sequential()\n",
        "    model.add(Conv2D(32, kernel_size=(3, 3),\n",
        "                     activation='relu',\n",
        "                     input_shape=(img_rows, img_cols, 1)))\n",
        "    model.add(Conv2D(64, (3, 3), activation='relu'))\n",
        "    model.add(MaxPooling2D(pool_size=(2, 2)))\n",
        "    model.add(Dropout(0.25))\n",
        "    model.add(Flatten())\n",
        "    model.add(Dense(128, activation='relu'))\n",
        "    model.add(Dropout(0.5))\n",
        "    model.add(Dense(num_classes, activation='softmax'))\n",
        "\n",
        "    model.compile(loss=keras.losses.categorical_crossentropy,\n",
        "                  optimizer=Adam(),\n",
        "                  metrics=['accuracy'])\n",
        "    batch_size = 12#128\n",
        "    print(\"done\")\n",
        "    epochs_list=[]\n",
        "    start_time_list=[]\n",
        "    stop_time_list=[]\n",
        "    loss_list=[]\n",
        "    accuracy_list=[]\n",
        "    start_time_total=datetime.datetime.now()\n",
        "    for epoch in range(epochs):\n",
        "      start_time=datetime.datetime.now()\n",
        "      history=model.fit(x_train,y_train,\n",
        "                        batch_size=batch_size,\n",
        "                        epochs=1,\n",
        "                        verbose=1,\n",
        "                        validation_data=(x_test,y_test))\n",
        "      stop_time=datetime.datetime.now()\n",
        "      loss=history.history['loss'][0]\n",
        "      print(loss)\n",
        "      accuracy=history.history['accuracy'][0]\n",
        "      epochs_list.append(epoch + 1)\n",
        "      start_time_list.append(start_time)\n",
        "      stop_time_list.append(stop_time)\n",
        "      loss_list.append(loss)\n",
        "\n",
        "      accuracy_list.append(accuracy)\n",
        "      print(f\"Epoch {epoch + 1}: Start Time - {start_time}, Stop Time - {stop_time}\")\n",
        "      print(f'Test loss for Epoch {epoch + 1}: {loss}')\n",
        "      print(f'Test accuracy for Epoch {epoch + 1}: {accuracy}')\n",
        "    stop_time_total = datetime.datetime.now()\n",
        "    history_df = pd.DataFrame({\n",
        "        'epoch': epochs_list,\n",
        "        'start_time': start_time_list,\n",
        "        'stop_time': stop_time_list,\n",
        "        'loss': loss_list,\n",
        "        'accuracy': accuracy_list,\n",
        "        'execution_time':stop_time_total\n",
        "        })\n",
        "    print(type(epochs))\n",
        "    print(history_df.head())\n",
        "    print(history_df.dtypes)\n",
        "    history_df['Experiment']=1\n",
        "    history_df['Optimizer']=\"PSO\"\n",
        "    history_df['Dataset']=name\n",
        "    history_df['Objfname']=\"CNN\"\n",
        "    history_df['Iteration accuracy']=accuracy\n",
        "    history_df=history_df[['epoch','Optimizer','Dataset','Objfname','Experiment','start_time','stop_time','execution_time','accuracy','loss','Iteration accuracy']]\n",
        "    print(type(epochs))\n",
        "    existing_data = pd.read_excel(\"/content/file.xlsx\")\n",
        "    def format_date(date):\n",
        "      return pd.to_datetime(date).strftime('%Y-%m-%d %H:%M:%S')\n",
        "    combined_data = pd.concat([existing_data, history_df], ignore_index=True)\n",
        "    combined_data['start_time']=combined_data['start_time'].apply(format_date)\n",
        "    combined_data['stop_time']=combined_data['stop_time'].apply(format_date)\n",
        "    combined_data.to_excel('file.xlsx', index=False)\n",
        "    import matplotlib.pyplot as plt\n",
        "    print(type(epochs))\n",
        "    epoch_values = [1,2,3,4,5]  # X-axis values (e.g., epochs or iterations)\n",
        "    loss_values = loss_list  # Y-axis values (e.g., loss)\n",
        "    print(loss_values)\n",
        "  # Create the convergence curve plot\n",
        "    plt.figure(figsize=(8, 6))\n",
        "    plt.plot(epoch_values, loss_values, marker='o', linestyle='-')\n",
        "    plt.title('Convergence Curve')\n",
        "    plt.xlabel('Epochs')\n",
        "    print(type(epochs))\n",
        "    plt.ylabel('Loss')\n",
        "    plt.grid(True)\n",
        "    plt.show()\n",
        "    i=1\n",
        "    plt.savefig(f\"Conv_curve{i}.png\",format=\"png\")\n",
        "    data1=pd.read_excel('/content/file.xlsx')\n",
        "    plot=sns.boxplot(data=data1,x=data1['accuracy'],color='yellow')\n",
        "    plt.xlabel('Accuracy')\n",
        "    sns.displot(data1['accuracy'],kde=True)\n",
        "    plt.savefig(\"box.png\", format=\"png\")\n",
        "    plt.show()\n",
        "    i=i+1\n",
        "    import numpy as np\n",
        "    import matplotlib.pyplot as plt\n",
        "    from sklearn.metrics import precision_score, f1_score, recall_score, confusion_matrix\n",
        "    from tensorflow.keras.models import Sequential\n",
        "    from tensorflow.keras.layers import Dense\n",
        "    from sklearn.metrics import confusion_matrix, ConfusionMatrixDisplay\n",
        "    class Metric:\n",
        "      def __init__(self, train_X, test_X, train_Y, test_Y):\n",
        "        self.train_X = train_X\n",
        "        self.test_X = test_X\n",
        "        self.train_Y = train_Y\n",
        "        self.test_Y = test_Y\n",
        "        self.model = self.create_model()\n",
        "\n",
        "        self.predictions = self.classify()\n",
        "        self.accuracy = self.compute_accuracy()\n",
        "        self.precision = self.compute_precision()\n",
        "        self.recall = self.compute_recall()\n",
        "        self.f1_score = self.compute_f1()\n",
        "        self.confusion_matrix = self.compute_confusion_matrix()\n",
        "\n",
        "        self.plot_confusion_matrix()\n",
        "\n",
        "      def create_model(self):\n",
        "        model = Sequential()\n",
        "        model.add(Conv2D(32, kernel_size=(3, 3), activation='relu', input_shape=(img_rows, img_cols, 1)))\n",
        "        model.add(Conv2D(64, (3, 3), activation='relu'))\n",
        "        model.add(MaxPooling2D(pool_size=(2, 2)))\n",
        "        model.add(Dropout(0.25))\n",
        "        model.add(Flatten())\n",
        "        model.add(Dense(128, activation='relu'))\n",
        "        model.add(Dropout(0.5))\n",
        "        model.add(Dense(num_classes, activation='softmax'))\n",
        "        model.compile(loss=keras.losses.categorical_crossentropy,\n",
        "                      optimizer=Adam(),\n",
        "                      metrics=['accuracy'])\n",
        "        return model\n",
        "\n",
        "      def classify(self):\n",
        "        self.model.fit(self.train_X, self.train_Y, epochs=1, batch_size=32, verbose=0)\n",
        "        predictions = self.model.predict(self.test_X)\n",
        "        return np.argmax(predictions, axis=1)\n",
        "        return predictions.flatten()\n",
        "\n",
        "      def compute_accuracy(self):\n",
        "        _, accuracy = self.model.evaluate(self.test_X, self.test_Y, verbose=0)\n",
        "        return accuracy\n",
        "\n",
        "      def compute_precision(self):\n",
        "        return precision_score(np.argmax(self.test_Y, axis=1), self.predictions, average='weighted')\n",
        "      def compute_recall(self):\n",
        "        return recall_score(np.argmax(self.test_Y, axis=1), self.predictions, average='weighted')\n",
        "\n",
        "      def compute_f1(self):\n",
        "        return f1_score(np.argmax(self.test_Y, axis=1), self.predictions, average='weighted')\n",
        "\n",
        "      def compute_confusion_matrix(self):\n",
        "        return confusion_matrix(np.argmax(self.test_Y, axis=1), self.predictions)\n",
        "\n",
        "      def plot_confusion_matrix(self):\n",
        "        cm = self.compute_confusion_matrix()\n",
        "        disp = ConfusionMatrixDisplay(confusion_matrix=cm)\n",
        "        disp.plot(cmap=plt.cm.Blues, values_format='d')\n",
        "        plt.title('Confusion Matrix-CNN')\n",
        "        plt.show()\n",
        "    metric_cnn = Metric(x_train, x_test, y_train, y_test)\n",
        "    precision_cnn = metric_cnn.precision\n",
        "    recall_cnn = metric_cnn.recall\n",
        "    f1_score_cnn = metric_cnn.f1_score\n",
        "    print(f\"K-Nearest Neighbors Precision: {precision_cnn}\")\n",
        "    print(f\"K-Nearest Neighbors Recall: {recall_cnn}\")\n",
        "    print(f\"K-Nearest Neighbors F1-Score: {f1_score_cnn}\")\n",
        "    # FP=int(input(\"Enter Fp\"))\n",
        "    # TP=int(input(\"Enter Tp\"))\n",
        "    # TN=int(input(\"Enter tn\"))\n",
        "    # FN=int(input(\"Enter Fn\"))\n",
        "    # sensitivity = TP / (TP + FN)\n",
        "    # print(\"Sensitivity (Recall):\", sensitivity)\n",
        "    # specificity = TN / (TN + FP)\n",
        "    # print(\"Specificity:\", specificity)\n",
        "    # import math\n",
        "    # g_mean = math.sqrt(sensitivity * specificity)\n",
        "    # print(\"G-Mean:\", g_mean)\n",
        "    # history_df['Sensitivity']=sensitivity\n",
        "    # history_df['specificity']=specificity\n",
        "    # history_df['g_mean']=g_mean\n",
        "    # history_df=history_df[['epoch','Optimizer','Dataset','Objfname','Experiment','start_time','stop_time','execution_time','accuracy','loss','Iteration accuracy',\n",
        "    #                      'Sensitivity','specificity','g_mean']]"
      ]
    },
    {
      "cell_type": "code",
      "execution_count": null,
      "metadata": {
        "id": "PNINCyDhDF6A"
      },
      "outputs": [],
      "source": [
        "# pd.read_"
      ]
    },
    {
      "cell_type": "code",
      "execution_count": null,
      "metadata": {
        "id": "9TVjL1y6_a-o"
      },
      "outputs": [],
      "source": [
        "# loss_values"
      ]
    },
    {
      "cell_type": "code",
      "execution_count": null,
      "metadata": {
        "id": "8JZbvnOTD4wK"
      },
      "outputs": [],
      "source": [
        "import pandas as pd\n",
        "import numpy as np\n",
        "import matplotlib.pyplot as plt\n",
        "from sklearn import datasets\n",
        "from sklearn.metrics import roc_curve,auc\n",
        "from scipy import interp\n",
        "from itertools import cycle\n",
        "#from sklearn.naive_bayes import GaussianNB\n",
        "#from sklearn.neighbors import KNeighborsClassifier as KNN\n",
        "#from sklearn.ensemble import RandomForestClassifier as RF\n",
        "from sklearn.svm import SVC as SVM\n",
        "\n",
        "from sklearn.naive_bayes import GaussianNB as NB\n",
        "from sklearn.tree import DecisionTreeClassifier as DT\n",
        "from sklearn.neural_network import MLPClassifier as NN\n",
        "\n",
        "def newrocplot(predictions,y,clf):\n",
        "    n_classes=len(set(y))\n",
        "    y_test = y\n",
        "    '''x_test = x\n",
        "    y_test = y\n",
        "    print(len(y_test))'''\n",
        "\n",
        "    print(n_classes)\n",
        "\n",
        "    pred1=model.predict(x_test)\n",
        "\n",
        "    t1=sum(x==0 for x in pred1-y_test)/len(pred1)\n",
        "\n",
        "    ### MACRO\n",
        "    fpr = dict()\n",
        "    tpr = dict()\n",
        "    roc_auc = dict()\n",
        "\n",
        "    for i in range(n_classes):\n",
        "        fpr[i], tpr[i], _ = roc_curve(np.array(pd.get_dummies(y_test))[:, i], np.array(pd.get_dummies(pred1))[:, i])\n",
        "##        fpr[i], tpr[i], _ = roc_curve(np.array(pd.get_dummies(y_test))[:, i], np.array(pd.get_dummies(pred1))[:, i])\n",
        "        roc_auc[i] = auc(fpr[i], tpr[i])\n",
        "\n",
        "\n",
        "    all_fpr = np.unique(np.concatenate([fpr[i] for i in range(n_classes)]))\n",
        "\n",
        "    mean_tpr = np.zeros_like(all_fpr)\n",
        "    for i in range(n_classes):\n",
        "        mean_tpr += np.interp(all_fpr, fpr[i], tpr[i])\n",
        "\n",
        "    mean_tpr /= n_classes\n",
        "\n",
        "    fpr[\"macro\"] = all_fpr\n",
        "    tpr[\"macro\"] = mean_tpr\n",
        "    roc_auc[\"macro\"] = auc(fpr[\"macro\"], tpr[\"macro\"])\n",
        "\n",
        "    return fpr[\"macro\"],tpr[\"macro\"],roc_auc[\"macro\"]\n",
        "\n",
        "\n",
        "if __name__==\"__main__\":\n",
        "\n",
        "    iris = datasets.load_iris()\n",
        "    x = iris.data[:, 2:]\n",
        "    y = iris.target\n",
        "    x_test = x\n",
        "    y_test = y\n",
        "\n",
        "    newrocplot(x,y,\"rf\")\n",
        "'''NAIVE BAYES'''\n"
      ]
    },
    {
      "cell_type": "code",
      "execution_count": null,
      "metadata": {
        "id": "68HExyRq5hKK"
      },
      "outputs": [],
      "source": [
        "def func(x):\n",
        "  n,sf,sp,l = x[0],x[1],x[2],x[3]\n",
        "\n",
        "  model = Sequential()\n",
        "  model.add(Conv2D(32,kernel_size=(3, 3),\n",
        "                 activation='relu',\n",
        "                 input_shape=input_shape))\n",
        "  model.add(Conv2D(64, (3, 3), activation='relu'))\n",
        "  model.add(Conv2D(n, (sf, sf), activation='relu'))\n",
        "  model.add(MaxPooling2D(pool_size=(sp, sp),strides=(l,l)))\n",
        "  model.add(Flatten())\n",
        "  model.add(Dense(num_classes, activation='softmax'))\n",
        "  model.compile(loss=keras.losses.categorical_crossentropy,\n",
        "              optimizer=keras.optimizers.Adam(),\n",
        "              metrics=['accuracy'])\n",
        "\n",
        "  cp = [keras.callbacks.EarlyStopping(monitor='val_loss', patience=5, verbose=0, mode='auto')];\n",
        "\n",
        "  model.fit(x_train, y_train,\n",
        "            batch_size=batch_size,\n",
        "            epochs=epochs,\n",
        "            verbose=0,\n",
        "            validation_data=(x_test, y_test),callbacks=cp)\n",
        "\n",
        "  score = model.evaluate(x_test, y_test, verbose=0)\n",
        "\n",
        "  # loss, val\n",
        "  print('current config:',x,'val:',score[1])\n",
        "  return score[1]\n",
        "\n",
        "##################################################################\n",
        "# pso = Pso(swarmsize=4,maxiter=14)\n",
        "# # n,sf,sp,l\n",
        "# bp,value = pso.run(func,[1,2,2,2],[16,8,4,4])\n",
        "\n",
        "# v = func(bp);\n",
        "\n",
        "# Define the objective function\n",
        "def func(x):\n",
        "    return sum(x)\n",
        "\n",
        "# Set the hyperparameters for PSO\n",
        "options = {'c1': 0.5, 'c2': 0.3, 'w': 0.9}\n",
        "\n",
        "# Set the bounds for the particles\n",
        "min_bound = [1, 2, 2, 2]\n",
        "max_bound = [16, 8, 4, 4]\n",
        "bounds = (min_bound, max_bound)\n",
        "\n",
        "# Define the PSO optimizer using the GlobalBestPSO class\n",
        "optimizer = pso(n_particles=4, dimensions=4, options=options, bounds=bounds)\n",
        "\n",
        "# Run the PSO optimizer\n",
        "best_position, best_value = optimizer.optimize(func, iters=14)\n",
        "\n",
        "# Print the best position and value\n",
        "print(\"Best position: \", best_position)\n",
        "print(\"Best value: \", best_value)\n",
        "\n",
        "##################################################################\n"
      ]
    },
    {
      "cell_type": "code",
      "execution_count": null,
      "metadata": {
        "colab": {
          "background_save": true
        },
        "id": "kxp1oiJ_fmjr",
        "outputId": "c60068cb-e482-4a4b-f5f3-7e6bc0e96c95"
      },
      "outputs": [
        {
          "ename": "NameError",
          "evalue": "name 'Pso' is not defined",
          "output_type": "error",
          "traceback": [
            "\u001b[0;31m---------------------------------------------------------------------------\u001b[0m",
            "\u001b[0;31mNameError\u001b[0m                                 Traceback (most recent call last)",
            "\u001b[0;32m<ipython-input-102-bb7b6a9322a6>\u001b[0m in \u001b[0;36m<cell line: 32>\u001b[0;34m()\u001b[0m\n\u001b[1;32m     30\u001b[0m \u001b[0;34m\u001b[0m\u001b[0m\n\u001b[1;32m     31\u001b[0m \u001b[0;31m##################################################################\u001b[0m\u001b[0;34m\u001b[0m\u001b[0;34m\u001b[0m\u001b[0m\n\u001b[0;32m---> 32\u001b[0;31m \u001b[0mpso\u001b[0m \u001b[0;34m=\u001b[0m \u001b[0mPso\u001b[0m\u001b[0;34m(\u001b[0m\u001b[0mswarmsize\u001b[0m\u001b[0;34m=\u001b[0m\u001b[0;36m4\u001b[0m\u001b[0;34m,\u001b[0m\u001b[0mmaxiter\u001b[0m\u001b[0;34m=\u001b[0m\u001b[0;36m14\u001b[0m\u001b[0;34m)\u001b[0m\u001b[0;34m\u001b[0m\u001b[0;34m\u001b[0m\u001b[0m\n\u001b[0m\u001b[1;32m     33\u001b[0m \u001b[0;31m# n,sf,sp,l\u001b[0m\u001b[0;34m\u001b[0m\u001b[0;34m\u001b[0m\u001b[0m\n\u001b[1;32m     34\u001b[0m \u001b[0mbp\u001b[0m\u001b[0;34m,\u001b[0m\u001b[0mvalue\u001b[0m \u001b[0;34m=\u001b[0m \u001b[0mpso\u001b[0m\u001b[0;34m.\u001b[0m\u001b[0mrun\u001b[0m\u001b[0;34m(\u001b[0m\u001b[0mfunc\u001b[0m\u001b[0;34m,\u001b[0m\u001b[0;34m[\u001b[0m\u001b[0;36m1\u001b[0m\u001b[0;34m,\u001b[0m\u001b[0;36m2\u001b[0m\u001b[0;34m,\u001b[0m\u001b[0;36m2\u001b[0m\u001b[0;34m,\u001b[0m\u001b[0;36m2\u001b[0m\u001b[0;34m]\u001b[0m\u001b[0;34m,\u001b[0m\u001b[0;34m[\u001b[0m\u001b[0;36m16\u001b[0m\u001b[0;34m,\u001b[0m\u001b[0;36m8\u001b[0m\u001b[0;34m,\u001b[0m\u001b[0;36m4\u001b[0m\u001b[0;34m,\u001b[0m\u001b[0;36m4\u001b[0m\u001b[0;34m]\u001b[0m\u001b[0;34m)\u001b[0m\u001b[0;34m\u001b[0m\u001b[0;34m\u001b[0m\u001b[0m\n",
            "\u001b[0;31mNameError\u001b[0m: name 'Pso' is not defined"
          ]
        }
      ],
      "source": [
        "\n",
        "def func(x):\n",
        "  n,sf,sp,l = x[0],x[1],x[2],x[3]\n",
        "\n",
        "  model = Sequential()\n",
        "  model.add(Conv2D(32,kernel_size=(3, 3),\n",
        "                 activation='relu',\n",
        "                 input_shape=input_shape))\n",
        "  model.add(Conv2D(64, (3, 3), activation='relu'))\n",
        "  model.add(Conv2D(n, (sf, sf), activation='relu'))\n",
        "  model.add(MaxPooling2D(pool_size=(sp, sp),strides=(l,l)))\n",
        "  model.add(Flatten())\n",
        "  model.add(Dense(num_classes, activation='softmax'))\n",
        "  model.compile(loss=keras.losses.categorical_crossentropy,\n",
        "              optimizer=keras.optimizers.Adam(),\n",
        "              metrics=['accuracy'])\n",
        "\n",
        "  cp = [keras.callbacks.EarlyStopping(monitor='val_loss', patience=5, verbose=0, mode='auto')];\n",
        "\n",
        "  model.fit(x_train, y_train,\n",
        "            batch_size=batch_size,\n",
        "            epochs=epochs,\n",
        "            verbose=0,\n",
        "            validation_data=(x_test, y_test),callbacks=cp)\n",
        "\n",
        "  score = model.evaluate(x_test, y_test, verbose=0)\n",
        "\n",
        "  # loss, val\n",
        "  print('current config:',x,'val:',score[1])\n",
        "  return score[1]\n",
        "\n",
        "##################################################################\n",
        "pso = Pso(swarmsize=4,maxiter=14)\n",
        "# n,sf,sp,l\n",
        "bp,value = pso.run(func,[1,2,2,2],[16,8,4,4])\n",
        "\n",
        "v = func(bp);\n",
        "\n",
        "##################################################################\n",
        "\n",
        "print('Test loss:', bp)\n",
        "print('Test accuracy:', value,v)"
      ]
    }
  ],
  "metadata": {
    "colab": {
      "provenance": [],
      "mount_file_id": "1C4O3DKnWZUDTnqmLYPnOzv_A8L5hkcp5",
      "authorship_tag": "ABX9TyMMv23qgnnqN7sH7/7nCFzg",
      "include_colab_link": true
    },
    "kernelspec": {
      "display_name": "Python 3",
      "name": "python3"
    },
    "language_info": {
      "name": "python"
    }
  },
  "nbformat": 4,
  "nbformat_minor": 0
}